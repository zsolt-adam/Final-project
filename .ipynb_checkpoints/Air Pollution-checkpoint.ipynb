{
 "cells": [
  {
   "cell_type": "code",
   "execution_count": 1,
   "id": "189aad26",
   "metadata": {},
   "outputs": [],
   "source": [
    "import pandas as pd"
   ]
  },
  {
   "cell_type": "code",
   "execution_count": 2,
   "id": "1e189644",
   "metadata": {},
   "outputs": [],
   "source": [
    "df_d15 = pd.read_excel('/Users/adamzsolt/Desktop/Thesis/RESTART/Datasets/Blanchardstown.xltx')"
   ]
  },
  {
   "cell_type": "code",
   "execution_count": 3,
   "id": "4def4163",
   "metadata": {},
   "outputs": [],
   "source": [
    "df_dl = pd.read_excel('/Users/adamzsolt/Desktop/Thesis/RESTART/Datasets/Dun_Laoghaire.xltx')"
   ]
  },
  {
   "cell_type": "code",
   "execution_count": 4,
   "id": "bf64e61a",
   "metadata": {},
   "outputs": [],
   "source": [
    "df_port = pd.read_excel('/Users/adamzsolt/Desktop/Thesis/RESTART/Datasets/Dublin_Port.xltx')"
   ]
  },
  {
   "cell_type": "code",
   "execution_count": 5,
   "id": "83354df3",
   "metadata": {},
   "outputs": [],
   "source": [
    "df_stjr = pd.read_excel('/Users/adamzsolt/Desktop/Thesis/RESTART/Datasets/St_Johns_Road.xltx')"
   ]
  },
  {
   "cell_type": "code",
   "execution_count": 6,
   "id": "eacb92e5",
   "metadata": {},
   "outputs": [],
   "source": [
    "df_tal = pd.read_excel('/Users/adamzsolt/Desktop/Thesis/RESTART/Datasets/Tallagh.xltx')"
   ]
  },
  {
   "cell_type": "code",
   "execution_count": 7,
   "id": "45f70415",
   "metadata": {},
   "outputs": [
    {
     "data": {
      "text/html": [
       "<div>\n",
       "<style scoped>\n",
       "    .dataframe tbody tr th:only-of-type {\n",
       "        vertical-align: middle;\n",
       "    }\n",
       "\n",
       "    .dataframe tbody tr th {\n",
       "        vertical-align: top;\n",
       "    }\n",
       "\n",
       "    .dataframe thead th {\n",
       "        text-align: right;\n",
       "    }\n",
       "</style>\n",
       "<table border=\"1\" class=\"dataframe\">\n",
       "  <thead>\n",
       "    <tr style=\"text-align: right;\">\n",
       "      <th></th>\n",
       "      <th>Air Quality Levels at Blanchardstown, Dublin 15</th>\n",
       "      <th>Unnamed: 1</th>\n",
       "      <th>Unnamed: 2</th>\n",
       "      <th>Unnamed: 3</th>\n",
       "    </tr>\n",
       "  </thead>\n",
       "  <tbody>\n",
       "    <tr>\n",
       "      <th>0</th>\n",
       "      <td>Date and Time</td>\n",
       "      <td>NO2</td>\n",
       "      <td>PM10</td>\n",
       "      <td>PM2.5</td>\n",
       "    </tr>\n",
       "    <tr>\n",
       "      <th>1</th>\n",
       "      <td>2020-07-01 00:00:00</td>\n",
       "      <td>1.77</td>\n",
       "      <td>13.64</td>\n",
       "      <td>8</td>\n",
       "    </tr>\n",
       "    <tr>\n",
       "      <th>2</th>\n",
       "      <td>2020-07-01 01:00:00</td>\n",
       "      <td>2.12</td>\n",
       "      <td>10.91</td>\n",
       "      <td>7.48</td>\n",
       "    </tr>\n",
       "    <tr>\n",
       "      <th>3</th>\n",
       "      <td>2020-07-01 02:00:00</td>\n",
       "      <td>1.59</td>\n",
       "      <td>13.06</td>\n",
       "      <td>6.78</td>\n",
       "    </tr>\n",
       "    <tr>\n",
       "      <th>4</th>\n",
       "      <td>2020-07-01 03:00:00</td>\n",
       "      <td>0.58</td>\n",
       "      <td>17.97</td>\n",
       "      <td>9.55</td>\n",
       "    </tr>\n",
       "  </tbody>\n",
       "</table>\n",
       "</div>"
      ],
      "text/plain": [
       "  Air Quality Levels at Blanchardstown, Dublin 15 Unnamed: 1 Unnamed: 2  \\\n",
       "0                                   Date and Time        NO2       PM10   \n",
       "1                             2020-07-01 00:00:00       1.77      13.64   \n",
       "2                             2020-07-01 01:00:00       2.12      10.91   \n",
       "3                             2020-07-01 02:00:00       1.59      13.06   \n",
       "4                             2020-07-01 03:00:00       0.58      17.97   \n",
       "\n",
       "  Unnamed: 3  \n",
       "0      PM2.5  \n",
       "1          8  \n",
       "2       7.48  \n",
       "3       6.78  \n",
       "4       9.55  "
      ]
     },
     "execution_count": 7,
     "metadata": {},
     "output_type": "execute_result"
    }
   ],
   "source": [
    "df_d15.head()"
   ]
  },
  {
   "cell_type": "code",
   "execution_count": 8,
   "id": "483f8a3a",
   "metadata": {},
   "outputs": [],
   "source": [
    "df_d15['Location']= \"Blanchardstown\""
   ]
  },
  {
   "cell_type": "code",
   "execution_count": 9,
   "id": "2a18a8f2",
   "metadata": {},
   "outputs": [],
   "source": [
    "df_dl['Location']= \"DunLaoghaire\""
   ]
  },
  {
   "cell_type": "code",
   "execution_count": 10,
   "id": "95ecd025",
   "metadata": {},
   "outputs": [],
   "source": [
    "df_port['Location']= \"DublinPort\""
   ]
  },
  {
   "cell_type": "code",
   "execution_count": 11,
   "id": "8aa09271",
   "metadata": {},
   "outputs": [],
   "source": [
    "df_stjr['Location']= \"StJohnsRoad\""
   ]
  },
  {
   "cell_type": "code",
   "execution_count": 12,
   "id": "6b8d2cfb",
   "metadata": {},
   "outputs": [],
   "source": [
    "df_tal['Location']= \"Tallagh\""
   ]
  },
  {
   "cell_type": "code",
   "execution_count": 13,
   "id": "3b2f3611",
   "metadata": {},
   "outputs": [],
   "source": [
    "def preprocess_data(df):\n",
    "    \n",
    "    # Renaming the first column to 'Date'\n",
    "    df.columns.values[0] = 'Date'\n",
    "    \n",
    "    # Renaming columns\n",
    "    df.rename(columns={'Unnamed: 1': 'NO2', 'Unnamed: 2': 'PM10', 'Unnamed: 3': 'PM2.5'}, inplace=True)\n",
    "    \n",
    "    # Dropping the first observation (first row)\n",
    "    df.drop(0, inplace=True)\n",
    "    \n",
    "    # Resetting the index after dropping the first row\n",
    "    df.reset_index(drop=True, inplace=True)\n",
    "    \n",
    "    return df"
   ]
  },
  {
   "cell_type": "code",
   "execution_count": 14,
   "id": "8f2d4fda",
   "metadata": {},
   "outputs": [],
   "source": [
    "df_d15 = preprocess_data(df_d15)"
   ]
  },
  {
   "cell_type": "code",
   "execution_count": 15,
   "id": "8a37b9b4",
   "metadata": {},
   "outputs": [],
   "source": [
    "df_dl = preprocess_data(df_dl)"
   ]
  },
  {
   "cell_type": "code",
   "execution_count": 16,
   "id": "c4d5db2d",
   "metadata": {},
   "outputs": [],
   "source": [
    "df_port = preprocess_data(df_port)"
   ]
  },
  {
   "cell_type": "code",
   "execution_count": 17,
   "id": "f98c50eb",
   "metadata": {},
   "outputs": [],
   "source": [
    "df_stjr = preprocess_data(df_stjr)"
   ]
  },
  {
   "cell_type": "code",
   "execution_count": 18,
   "id": "844e80a5",
   "metadata": {},
   "outputs": [],
   "source": [
    "df_tal = preprocess_data(df_tal)"
   ]
  },
  {
   "cell_type": "code",
   "execution_count": 19,
   "id": "555f2ecd",
   "metadata": {},
   "outputs": [
    {
     "data": {
      "text/html": [
       "<div>\n",
       "<style scoped>\n",
       "    .dataframe tbody tr th:only-of-type {\n",
       "        vertical-align: middle;\n",
       "    }\n",
       "\n",
       "    .dataframe tbody tr th {\n",
       "        vertical-align: top;\n",
       "    }\n",
       "\n",
       "    .dataframe thead th {\n",
       "        text-align: right;\n",
       "    }\n",
       "</style>\n",
       "<table border=\"1\" class=\"dataframe\">\n",
       "  <thead>\n",
       "    <tr style=\"text-align: right;\">\n",
       "      <th></th>\n",
       "      <th>Date</th>\n",
       "      <th>NO2</th>\n",
       "      <th>PM10</th>\n",
       "      <th>PM2.5</th>\n",
       "      <th>Location</th>\n",
       "    </tr>\n",
       "  </thead>\n",
       "  <tbody>\n",
       "    <tr>\n",
       "      <th>0</th>\n",
       "      <td>2020-07-01 00:00:00</td>\n",
       "      <td>1.77</td>\n",
       "      <td>13.64</td>\n",
       "      <td>8</td>\n",
       "      <td>Blanchardstown</td>\n",
       "    </tr>\n",
       "    <tr>\n",
       "      <th>1</th>\n",
       "      <td>2020-07-01 01:00:00</td>\n",
       "      <td>2.12</td>\n",
       "      <td>10.91</td>\n",
       "      <td>7.48</td>\n",
       "      <td>Blanchardstown</td>\n",
       "    </tr>\n",
       "    <tr>\n",
       "      <th>2</th>\n",
       "      <td>2020-07-01 02:00:00</td>\n",
       "      <td>1.59</td>\n",
       "      <td>13.06</td>\n",
       "      <td>6.78</td>\n",
       "      <td>Blanchardstown</td>\n",
       "    </tr>\n",
       "    <tr>\n",
       "      <th>3</th>\n",
       "      <td>2020-07-01 03:00:00</td>\n",
       "      <td>0.58</td>\n",
       "      <td>17.97</td>\n",
       "      <td>9.55</td>\n",
       "      <td>Blanchardstown</td>\n",
       "    </tr>\n",
       "    <tr>\n",
       "      <th>4</th>\n",
       "      <td>2020-07-01 04:00:00</td>\n",
       "      <td>-0.61</td>\n",
       "      <td>17.97</td>\n",
       "      <td>11.05</td>\n",
       "      <td>Blanchardstown</td>\n",
       "    </tr>\n",
       "  </tbody>\n",
       "</table>\n",
       "</div>"
      ],
      "text/plain": [
       "                  Date   NO2   PM10  PM2.5        Location\n",
       "0  2020-07-01 00:00:00  1.77  13.64      8  Blanchardstown\n",
       "1  2020-07-01 01:00:00  2.12  10.91   7.48  Blanchardstown\n",
       "2  2020-07-01 02:00:00  1.59  13.06   6.78  Blanchardstown\n",
       "3  2020-07-01 03:00:00  0.58  17.97   9.55  Blanchardstown\n",
       "4  2020-07-01 04:00:00 -0.61  17.97  11.05  Blanchardstown"
      ]
     },
     "execution_count": 19,
     "metadata": {},
     "output_type": "execute_result"
    }
   ],
   "source": [
    "# Concatenating DataFrames vertically based on 'Date' column\n",
    "dfs = pd.concat([df_d15, df_dl, df_port, df_stjr, df_tal], ignore_index=True)\n",
    "dfs.drop(dfs.columns[-1], axis=1, inplace=True)\n",
    "dfs.head()"
   ]
  },
  {
   "cell_type": "code",
   "execution_count": null,
   "id": "b9af75c9",
   "metadata": {},
   "outputs": [],
   "source": []
  }
 ],
 "metadata": {
  "kernelspec": {
   "display_name": "Python 3 (ipykernel)",
   "language": "python",
   "name": "python3"
  },
  "language_info": {
   "codemirror_mode": {
    "name": "ipython",
    "version": 3
   },
   "file_extension": ".py",
   "mimetype": "text/x-python",
   "name": "python",
   "nbconvert_exporter": "python",
   "pygments_lexer": "ipython3",
   "version": "3.9.16"
  }
 },
 "nbformat": 4,
 "nbformat_minor": 5
}
