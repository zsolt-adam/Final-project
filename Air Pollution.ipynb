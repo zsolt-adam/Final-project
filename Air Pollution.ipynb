{
 "cells": [
  {
   "cell_type": "code",
   "execution_count": 1,
   "id": "189aad26",
   "metadata": {},
   "outputs": [],
   "source": [
    "import pandas as pd"
   ]
  },
  {
   "cell_type": "code",
   "execution_count": 2,
   "id": "83bf0e8b",
   "metadata": {},
   "outputs": [],
   "source": [
    "df_d15 = pd.read_excel('/Users/adamzsolt/Desktop/Thesis/RESTART/Datasets/Blanchardstown.xltx')"
   ]
  },
  {
   "cell_type": "code",
   "execution_count": 3,
   "id": "992493ce",
   "metadata": {},
   "outputs": [],
   "source": [
    "df_dl = pd.read_excel('/Users/adamzsolt/Desktop/Thesis/RESTART/Datasets/Dun_Laoghaire.xltx')"
   ]
  },
  {
   "cell_type": "code",
   "execution_count": 4,
   "id": "627ebd21",
   "metadata": {},
   "outputs": [],
   "source": [
    "df_port = pd.read_excel('/Users/adamzsolt/Desktop/Thesis/RESTART/Datasets/Dublin_Port.xltx')"
   ]
  },
  {
   "cell_type": "code",
   "execution_count": 5,
   "id": "824aa60d",
   "metadata": {},
   "outputs": [],
   "source": [
    "df_stjr = pd.read_excel('/Users/adamzsolt/Desktop/Thesis/RESTART/Datasets/St_Johns_Road.xltx')"
   ]
  },
  {
   "cell_type": "code",
   "execution_count": 6,
   "id": "6591cebd",
   "metadata": {},
   "outputs": [],
   "source": [
    "df_tal = pd.read_excel('/Users/adamzsolt/Desktop/Thesis/RESTART/Datasets/Tallagh.xltx')"
   ]
  },
  {
   "cell_type": "code",
   "execution_count": 7,
   "id": "ff5f3506",
   "metadata": {},
   "outputs": [
    {
     "data": {
      "text/html": [
       "<div>\n",
       "<style scoped>\n",
       "    .dataframe tbody tr th:only-of-type {\n",
       "        vertical-align: middle;\n",
       "    }\n",
       "\n",
       "    .dataframe tbody tr th {\n",
       "        vertical-align: top;\n",
       "    }\n",
       "\n",
       "    .dataframe thead th {\n",
       "        text-align: right;\n",
       "    }\n",
       "</style>\n",
       "<table border=\"1\" class=\"dataframe\">\n",
       "  <thead>\n",
       "    <tr style=\"text-align: right;\">\n",
       "      <th></th>\n",
       "      <th>Air Quality Levels at Blanchardstown, Dublin 15</th>\n",
       "      <th>Unnamed: 1</th>\n",
       "      <th>Unnamed: 2</th>\n",
       "      <th>Unnamed: 3</th>\n",
       "    </tr>\n",
       "  </thead>\n",
       "  <tbody>\n",
       "    <tr>\n",
       "      <th>0</th>\n",
       "      <td>Date and Time</td>\n",
       "      <td>NO2</td>\n",
       "      <td>PM10</td>\n",
       "      <td>PM2.5</td>\n",
       "    </tr>\n",
       "    <tr>\n",
       "      <th>1</th>\n",
       "      <td>2020-07-01 00:00:00</td>\n",
       "      <td>1.77</td>\n",
       "      <td>13.64</td>\n",
       "      <td>8</td>\n",
       "    </tr>\n",
       "    <tr>\n",
       "      <th>2</th>\n",
       "      <td>2020-07-01 01:00:00</td>\n",
       "      <td>2.12</td>\n",
       "      <td>10.91</td>\n",
       "      <td>7.48</td>\n",
       "    </tr>\n",
       "    <tr>\n",
       "      <th>3</th>\n",
       "      <td>2020-07-01 02:00:00</td>\n",
       "      <td>1.59</td>\n",
       "      <td>13.06</td>\n",
       "      <td>6.78</td>\n",
       "    </tr>\n",
       "    <tr>\n",
       "      <th>4</th>\n",
       "      <td>2020-07-01 03:00:00</td>\n",
       "      <td>0.58</td>\n",
       "      <td>17.97</td>\n",
       "      <td>9.55</td>\n",
       "    </tr>\n",
       "  </tbody>\n",
       "</table>\n",
       "</div>"
      ],
      "text/plain": [
       "  Air Quality Levels at Blanchardstown, Dublin 15 Unnamed: 1 Unnamed: 2  \\\n",
       "0                                   Date and Time        NO2       PM10   \n",
       "1                             2020-07-01 00:00:00       1.77      13.64   \n",
       "2                             2020-07-01 01:00:00       2.12      10.91   \n",
       "3                             2020-07-01 02:00:00       1.59      13.06   \n",
       "4                             2020-07-01 03:00:00       0.58      17.97   \n",
       "\n",
       "  Unnamed: 3  \n",
       "0      PM2.5  \n",
       "1          8  \n",
       "2       7.48  \n",
       "3       6.78  \n",
       "4       9.55  "
      ]
     },
     "execution_count": 7,
     "metadata": {},
     "output_type": "execute_result"
    }
   ],
   "source": [
    "df_d15.head()"
   ]
  },
  {
   "cell_type": "code",
   "execution_count": 8,
   "id": "e539f60b",
   "metadata": {},
   "outputs": [],
   "source": [
    "df_d15['Location']= \"Blanchardstown\""
   ]
  },
  {
   "cell_type": "code",
   "execution_count": 9,
   "id": "55c5de66",
   "metadata": {},
   "outputs": [],
   "source": [
    "df_dl['Location']= \"DunLaoghaire\""
   ]
  },
  {
   "cell_type": "code",
   "execution_count": 10,
   "id": "ab3b556e",
   "metadata": {},
   "outputs": [],
   "source": [
    "df_port['Location']= \"DublinPort\""
   ]
  },
  {
   "cell_type": "code",
   "execution_count": 11,
   "id": "d6691642",
   "metadata": {},
   "outputs": [],
   "source": [
    "df_stjr['Location']= \"StJohnsRoad\""
   ]
  },
  {
   "cell_type": "code",
   "execution_count": 12,
   "id": "ee3fe620",
   "metadata": {},
   "outputs": [],
   "source": [
    "df_tal['Location']= \"Tallagh\""
   ]
  },
  {
   "cell_type": "code",
   "execution_count": 13,
   "id": "4ca32d47",
   "metadata": {},
   "outputs": [],
   "source": [
    "def preprocess_data(df):\n",
    "    \n",
    "    # Renaming the first column to 'Date'\n",
    "    df.columns.values[0] = 'Date'\n",
    "    \n",
    "    # Renaming columns\n",
    "    df.rename(columns={'Unnamed: 1': 'NO2', 'Unnamed: 2': 'PM10', 'Unnamed: 3': 'PM2.5'}, inplace=True)\n",
    "    \n",
    "    # Dropping the first observation (first row)\n",
    "    df.drop(0, inplace=True)\n",
    "    \n",
    "    # Resetting the index after dropping the first row\n",
    "    df.reset_index(drop=True, inplace=True)\n",
    "    \n",
    "    return df"
   ]
  },
  {
   "cell_type": "code",
   "execution_count": 14,
   "id": "68e5f835",
   "metadata": {},
   "outputs": [],
   "source": [
    "df_d15 = preprocess_data(df_d15)"
   ]
  },
  {
   "cell_type": "code",
   "execution_count": 15,
   "id": "02240a89",
   "metadata": {},
   "outputs": [],
   "source": [
    "df_dl = preprocess_data(df_dl)"
   ]
  },
  {
   "cell_type": "code",
   "execution_count": 16,
   "id": "8212c7c2",
   "metadata": {},
   "outputs": [],
   "source": [
    "df_port = preprocess_data(df_port)"
   ]
  },
  {
   "cell_type": "code",
   "execution_count": 17,
   "id": "a1094504",
   "metadata": {},
   "outputs": [],
   "source": [
    "df_stjr = preprocess_data(df_stjr)"
   ]
  },
  {
   "cell_type": "code",
   "execution_count": 18,
   "id": "c28cda68",
   "metadata": {},
   "outputs": [],
   "source": [
    "df_tal = preprocess_data(df_tal)"
   ]
  },
  {
   "cell_type": "code",
   "execution_count": 19,
   "id": "ed02925f",
   "metadata": {},
   "outputs": [
    {
     "data": {
      "text/html": [
       "<div>\n",
       "<style scoped>\n",
       "    .dataframe tbody tr th:only-of-type {\n",
       "        vertical-align: middle;\n",
       "    }\n",
       "\n",
       "    .dataframe tbody tr th {\n",
       "        vertical-align: top;\n",
       "    }\n",
       "\n",
       "    .dataframe thead th {\n",
       "        text-align: right;\n",
       "    }\n",
       "</style>\n",
       "<table border=\"1\" class=\"dataframe\">\n",
       "  <thead>\n",
       "    <tr style=\"text-align: right;\">\n",
       "      <th></th>\n",
       "      <th>Date</th>\n",
       "      <th>NO2</th>\n",
       "      <th>PM10</th>\n",
       "      <th>PM2.5</th>\n",
       "      <th>Location</th>\n",
       "    </tr>\n",
       "  </thead>\n",
       "  <tbody>\n",
       "    <tr>\n",
       "      <th>0</th>\n",
       "      <td>2020-07-01 00:00:00</td>\n",
       "      <td>1.77</td>\n",
       "      <td>13.64</td>\n",
       "      <td>8</td>\n",
       "      <td>Blanchardstown</td>\n",
       "    </tr>\n",
       "    <tr>\n",
       "      <th>1</th>\n",
       "      <td>2020-07-01 01:00:00</td>\n",
       "      <td>2.12</td>\n",
       "      <td>10.91</td>\n",
       "      <td>7.48</td>\n",
       "      <td>Blanchardstown</td>\n",
       "    </tr>\n",
       "    <tr>\n",
       "      <th>2</th>\n",
       "      <td>2020-07-01 02:00:00</td>\n",
       "      <td>1.59</td>\n",
       "      <td>13.06</td>\n",
       "      <td>6.78</td>\n",
       "      <td>Blanchardstown</td>\n",
       "    </tr>\n",
       "    <tr>\n",
       "      <th>3</th>\n",
       "      <td>2020-07-01 03:00:00</td>\n",
       "      <td>0.58</td>\n",
       "      <td>17.97</td>\n",
       "      <td>9.55</td>\n",
       "      <td>Blanchardstown</td>\n",
       "    </tr>\n",
       "    <tr>\n",
       "      <th>4</th>\n",
       "      <td>2020-07-01 04:00:00</td>\n",
       "      <td>-0.61</td>\n",
       "      <td>17.97</td>\n",
       "      <td>11.05</td>\n",
       "      <td>Blanchardstown</td>\n",
       "    </tr>\n",
       "  </tbody>\n",
       "</table>\n",
       "</div>"
      ],
      "text/plain": [
       "                  Date   NO2   PM10  PM2.5        Location\n",
       "0  2020-07-01 00:00:00  1.77  13.64      8  Blanchardstown\n",
       "1  2020-07-01 01:00:00  2.12  10.91   7.48  Blanchardstown\n",
       "2  2020-07-01 02:00:00  1.59  13.06   6.78  Blanchardstown\n",
       "3  2020-07-01 03:00:00  0.58  17.97   9.55  Blanchardstown\n",
       "4  2020-07-01 04:00:00 -0.61  17.97  11.05  Blanchardstown"
      ]
     },
     "execution_count": 19,
     "metadata": {},
     "output_type": "execute_result"
    }
   ],
   "source": [
    "# Concatenating DataFrames vertically based on 'Date' column\n",
    "dfs = pd.concat([df_d15, df_dl, df_port, df_stjr, df_tal], ignore_index=True)\n",
    "dfs.drop(dfs.columns[-1], axis=1, inplace=True)\n",
    "dfs.head()"
   ]
  },
  {
   "cell_type": "code",
   "execution_count": 20,
   "id": "eba19d0d",
   "metadata": {},
   "outputs": [
    {
     "data": {
      "text/plain": [
       "(149874, 5)"
      ]
     },
     "execution_count": 20,
     "metadata": {},
     "output_type": "execute_result"
    }
   ],
   "source": [
    "dfs.shape"
   ]
  },
  {
   "cell_type": "code",
   "execution_count": 21,
   "id": "c4787f16",
   "metadata": {},
   "outputs": [
    {
     "data": {
      "text/plain": [
       "Date           1\n",
       "NO2         1178\n",
       "PM10        2103\n",
       "PM2.5       2022\n",
       "Location       0\n",
       "dtype: int64"
      ]
     },
     "execution_count": 21,
     "metadata": {},
     "output_type": "execute_result"
    }
   ],
   "source": [
    "dfs.isnull().sum()"
   ]
  },
  {
   "cell_type": "code",
   "execution_count": 22,
   "id": "c5175643",
   "metadata": {},
   "outputs": [],
   "source": [
    "from sklearn.impute import SimpleImputer\n",
    "\n",
    "# Convert the columns to float type, handling NaN values\n",
    "dfs[['NO2', 'PM2.5', 'PM10']] = dfs[['NO2', 'PM2.5', 'PM10']].apply(pd.to_numeric, errors='coerce')\n",
    "\n",
    "# Impute missing values using median strategy\n",
    "imputer = SimpleImputer(strategy='median')\n",
    "dfs[['NO2', 'PM2.5', 'PM10']] = imputer.fit_transform(dfs[['NO2', 'PM2.5', 'PM10']])\n",
    "\n",
    "dfs.dropna(subset=['Date'], inplace=True)"
   ]
  },
  {
   "cell_type": "code",
   "execution_count": 23,
   "id": "51d10107",
   "metadata": {},
   "outputs": [
    {
     "data": {
      "text/plain": [
       "Date        0\n",
       "NO2         0\n",
       "PM10        0\n",
       "PM2.5       0\n",
       "Location    0\n",
       "dtype: int64"
      ]
     },
     "execution_count": 23,
     "metadata": {},
     "output_type": "execute_result"
    }
   ],
   "source": [
    "dfs.isnull().sum()"
   ]
  },
  {
   "cell_type": "code",
   "execution_count": 24,
   "id": "80bb78ed",
   "metadata": {},
   "outputs": [
    {
     "data": {
      "text/html": [
       "<div>\n",
       "<style scoped>\n",
       "    .dataframe tbody tr th:only-of-type {\n",
       "        vertical-align: middle;\n",
       "    }\n",
       "\n",
       "    .dataframe tbody tr th {\n",
       "        vertical-align: top;\n",
       "    }\n",
       "\n",
       "    .dataframe thead th {\n",
       "        text-align: right;\n",
       "    }\n",
       "</style>\n",
       "<table border=\"1\" class=\"dataframe\">\n",
       "  <thead>\n",
       "    <tr style=\"text-align: right;\">\n",
       "      <th></th>\n",
       "      <th>NO2</th>\n",
       "      <th>PM10</th>\n",
       "      <th>PM2.5</th>\n",
       "    </tr>\n",
       "  </thead>\n",
       "  <tbody>\n",
       "    <tr>\n",
       "      <th>count</th>\n",
       "      <td>149873.000000</td>\n",
       "      <td>149873.000000</td>\n",
       "      <td>149873.000000</td>\n",
       "    </tr>\n",
       "    <tr>\n",
       "      <th>mean</th>\n",
       "      <td>21.575163</td>\n",
       "      <td>10.140529</td>\n",
       "      <td>9.251968</td>\n",
       "    </tr>\n",
       "    <tr>\n",
       "      <th>std</th>\n",
       "      <td>18.417078</td>\n",
       "      <td>12.739083</td>\n",
       "      <td>10.081731</td>\n",
       "    </tr>\n",
       "    <tr>\n",
       "      <th>min</th>\n",
       "      <td>-15.400000</td>\n",
       "      <td>-11.880000</td>\n",
       "      <td>0.000000</td>\n",
       "    </tr>\n",
       "    <tr>\n",
       "      <th>25%</th>\n",
       "      <td>7.390000</td>\n",
       "      <td>3.960000</td>\n",
       "      <td>3.700000</td>\n",
       "    </tr>\n",
       "    <tr>\n",
       "      <th>50%</th>\n",
       "      <td>16.260000</td>\n",
       "      <td>8.170000</td>\n",
       "      <td>6.220000</td>\n",
       "    </tr>\n",
       "    <tr>\n",
       "      <th>75%</th>\n",
       "      <td>31.560000</td>\n",
       "      <td>13.540000</td>\n",
       "      <td>11.040000</td>\n",
       "    </tr>\n",
       "    <tr>\n",
       "      <th>max</th>\n",
       "      <td>339.380000</td>\n",
       "      <td>1151.360000</td>\n",
       "      <td>460.050000</td>\n",
       "    </tr>\n",
       "  </tbody>\n",
       "</table>\n",
       "</div>"
      ],
      "text/plain": [
       "                 NO2           PM10          PM2.5\n",
       "count  149873.000000  149873.000000  149873.000000\n",
       "mean       21.575163      10.140529       9.251968\n",
       "std        18.417078      12.739083      10.081731\n",
       "min       -15.400000     -11.880000       0.000000\n",
       "25%         7.390000       3.960000       3.700000\n",
       "50%        16.260000       8.170000       6.220000\n",
       "75%        31.560000      13.540000      11.040000\n",
       "max       339.380000    1151.360000     460.050000"
      ]
     },
     "execution_count": 24,
     "metadata": {},
     "output_type": "execute_result"
    }
   ],
   "source": [
    "dfs.describe()"
   ]
  },
  {
   "cell_type": "code",
   "execution_count": 25,
   "id": "282882c0",
   "metadata": {},
   "outputs": [],
   "source": [
    "dfs['Date'] = pd.to_datetime(dfs['Date'])\n",
    "\n",
    "dfs['Year'] = dfs['Date'].dt.year.astype(int)\n",
    "dfs['Month'] = dfs['Date'].dt.month.astype(int)\n",
    "dfs['Day'] = dfs['Date'].dt.day.astype(int)\n",
    "dfs['Hour'] = dfs['Date'].dt.hour.astype(int)\n",
    "\n",
    "dfs = dfs[['Date', 'Year', 'Month', 'Day', 'Hour', 'Location', 'NO2', 'PM2.5', 'PM10']]"
   ]
  },
  {
   "cell_type": "code",
   "execution_count": 26,
   "id": "54e33e1a",
   "metadata": {},
   "outputs": [
    {
     "data": {
      "text/html": [
       "<div>\n",
       "<style scoped>\n",
       "    .dataframe tbody tr th:only-of-type {\n",
       "        vertical-align: middle;\n",
       "    }\n",
       "\n",
       "    .dataframe tbody tr th {\n",
       "        vertical-align: top;\n",
       "    }\n",
       "\n",
       "    .dataframe thead th {\n",
       "        text-align: right;\n",
       "    }\n",
       "</style>\n",
       "<table border=\"1\" class=\"dataframe\">\n",
       "  <thead>\n",
       "    <tr style=\"text-align: right;\">\n",
       "      <th></th>\n",
       "      <th>Date</th>\n",
       "      <th>Year</th>\n",
       "      <th>Month</th>\n",
       "      <th>Day</th>\n",
       "      <th>Hour</th>\n",
       "      <th>Location</th>\n",
       "      <th>NO2</th>\n",
       "      <th>PM2.5</th>\n",
       "      <th>PM10</th>\n",
       "    </tr>\n",
       "  </thead>\n",
       "  <tbody>\n",
       "    <tr>\n",
       "      <th>0</th>\n",
       "      <td>2020-07-01 00:00:00</td>\n",
       "      <td>2020</td>\n",
       "      <td>7</td>\n",
       "      <td>1</td>\n",
       "      <td>0</td>\n",
       "      <td>Blanchardstown</td>\n",
       "      <td>1.77</td>\n",
       "      <td>8.00</td>\n",
       "      <td>13.64</td>\n",
       "    </tr>\n",
       "    <tr>\n",
       "      <th>1</th>\n",
       "      <td>2020-07-01 01:00:00</td>\n",
       "      <td>2020</td>\n",
       "      <td>7</td>\n",
       "      <td>1</td>\n",
       "      <td>1</td>\n",
       "      <td>Blanchardstown</td>\n",
       "      <td>2.12</td>\n",
       "      <td>7.48</td>\n",
       "      <td>10.91</td>\n",
       "    </tr>\n",
       "    <tr>\n",
       "      <th>2</th>\n",
       "      <td>2020-07-01 02:00:00</td>\n",
       "      <td>2020</td>\n",
       "      <td>7</td>\n",
       "      <td>1</td>\n",
       "      <td>2</td>\n",
       "      <td>Blanchardstown</td>\n",
       "      <td>1.59</td>\n",
       "      <td>6.78</td>\n",
       "      <td>13.06</td>\n",
       "    </tr>\n",
       "    <tr>\n",
       "      <th>3</th>\n",
       "      <td>2020-07-01 03:00:00</td>\n",
       "      <td>2020</td>\n",
       "      <td>7</td>\n",
       "      <td>1</td>\n",
       "      <td>3</td>\n",
       "      <td>Blanchardstown</td>\n",
       "      <td>0.58</td>\n",
       "      <td>9.55</td>\n",
       "      <td>17.97</td>\n",
       "    </tr>\n",
       "    <tr>\n",
       "      <th>4</th>\n",
       "      <td>2020-07-01 04:00:00</td>\n",
       "      <td>2020</td>\n",
       "      <td>7</td>\n",
       "      <td>1</td>\n",
       "      <td>4</td>\n",
       "      <td>Blanchardstown</td>\n",
       "      <td>-0.61</td>\n",
       "      <td>11.05</td>\n",
       "      <td>17.97</td>\n",
       "    </tr>\n",
       "  </tbody>\n",
       "</table>\n",
       "</div>"
      ],
      "text/plain": [
       "                 Date  Year  Month  Day  Hour        Location   NO2  PM2.5  \\\n",
       "0 2020-07-01 00:00:00  2020      7    1     0  Blanchardstown  1.77   8.00   \n",
       "1 2020-07-01 01:00:00  2020      7    1     1  Blanchardstown  2.12   7.48   \n",
       "2 2020-07-01 02:00:00  2020      7    1     2  Blanchardstown  1.59   6.78   \n",
       "3 2020-07-01 03:00:00  2020      7    1     3  Blanchardstown  0.58   9.55   \n",
       "4 2020-07-01 04:00:00  2020      7    1     4  Blanchardstown -0.61  11.05   \n",
       "\n",
       "    PM10  \n",
       "0  13.64  \n",
       "1  10.91  \n",
       "2  13.06  \n",
       "3  17.97  \n",
       "4  17.97  "
      ]
     },
     "execution_count": 26,
     "metadata": {},
     "output_type": "execute_result"
    }
   ],
   "source": [
    "dfs.head()"
   ]
  },
  {
   "cell_type": "code",
   "execution_count": null,
   "id": "0348cece",
   "metadata": {},
   "outputs": [],
   "source": []
  }
 ],
 "metadata": {
  "kernelspec": {
   "display_name": "Python 3 (ipykernel)",
   "language": "python",
   "name": "python3"
  },
  "language_info": {
   "codemirror_mode": {
    "name": "ipython",
    "version": 3
   },
   "file_extension": ".py",
   "mimetype": "text/x-python",
   "name": "python",
   "nbconvert_exporter": "python",
   "pygments_lexer": "ipython3",
   "version": "3.9.16"
  }
 },
 "nbformat": 4,
 "nbformat_minor": 5
}
